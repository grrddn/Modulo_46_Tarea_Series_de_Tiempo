{
 "cells": [
  {
   "cell_type": "markdown",
   "id": "fa8b5a41",
   "metadata": {},
   "source": [
    "# **Análisis del Precio de la Acción de Apple**"
   ]
  },
  {
   "cell_type": "markdown",
   "id": "022f83d7",
   "metadata": {},
   "source": [
    "Se analizara el precio de la acción de Apple para crear un modelo de predicción el cual sera evaluado con los datos reales del DataFrame. "
   ]
  },
  {
   "cell_type": "markdown",
   "id": "0a07779e",
   "metadata": {},
   "source": [
    "# **Carga de librerías y archivo**"
   ]
  },
  {
   "cell_type": "code",
   "execution_count": 2,
   "id": "f3e9bfc9",
   "metadata": {},
   "outputs": [],
   "source": [
    "import pandas as pd\n",
    "import numpy as np\n",
    "import seaborn as sns\n",
    "import matplotlib.pyplot as plt\n",
    "import statsmodels.api as sm\n",
    "import os"
   ]
  },
  {
   "cell_type": "code",
   "execution_count": 3,
   "id": "bfba1895",
   "metadata": {},
   "outputs": [
    {
     "data": {
      "text/html": [
       "<div>\n",
       "<style scoped>\n",
       "    .dataframe tbody tr th:only-of-type {\n",
       "        vertical-align: middle;\n",
       "    }\n",
       "\n",
       "    .dataframe tbody tr th {\n",
       "        vertical-align: top;\n",
       "    }\n",
       "\n",
       "    .dataframe thead th {\n",
       "        text-align: right;\n",
       "    }\n",
       "</style>\n",
       "<table border=\"1\" class=\"dataframe\">\n",
       "  <thead>\n",
       "    <tr style=\"text-align: right;\">\n",
       "      <th></th>\n",
       "      <th>Open</th>\n",
       "      <th>High</th>\n",
       "      <th>Low</th>\n",
       "      <th>Close</th>\n",
       "      <th>Volume</th>\n",
       "      <th>Name</th>\n",
       "    </tr>\n",
       "    <tr>\n",
       "      <th>Date</th>\n",
       "      <th></th>\n",
       "      <th></th>\n",
       "      <th></th>\n",
       "      <th></th>\n",
       "      <th></th>\n",
       "      <th></th>\n",
       "    </tr>\n",
       "  </thead>\n",
       "  <tbody>\n",
       "    <tr>\n",
       "      <th>2012-12-31</th>\n",
       "      <td>72.93</td>\n",
       "      <td>76.49</td>\n",
       "      <td>72.71</td>\n",
       "      <td>76.02</td>\n",
       "      <td>164872785</td>\n",
       "      <td>AAPL</td>\n",
       "    </tr>\n",
       "    <tr>\n",
       "      <th>2007-12-26</th>\n",
       "      <td>28.43</td>\n",
       "      <td>28.71</td>\n",
       "      <td>28.12</td>\n",
       "      <td>28.42</td>\n",
       "      <td>175933023</td>\n",
       "      <td>AAPL</td>\n",
       "    </tr>\n",
       "    <tr>\n",
       "      <th>2015-11-02</th>\n",
       "      <td>120.80</td>\n",
       "      <td>121.36</td>\n",
       "      <td>119.61</td>\n",
       "      <td>121.18</td>\n",
       "      <td>31761309</td>\n",
       "      <td>AAPL</td>\n",
       "    </tr>\n",
       "    <tr>\n",
       "      <th>2012-04-16</th>\n",
       "      <td>87.15</td>\n",
       "      <td>87.18</td>\n",
       "      <td>82.61</td>\n",
       "      <td>82.88</td>\n",
       "      <td>262696056</td>\n",
       "      <td>AAPL</td>\n",
       "    </tr>\n",
       "    <tr>\n",
       "      <th>2007-12-17</th>\n",
       "      <td>27.25</td>\n",
       "      <td>27.52</td>\n",
       "      <td>26.14</td>\n",
       "      <td>26.34</td>\n",
       "      <td>256172938</td>\n",
       "      <td>AAPL</td>\n",
       "    </tr>\n",
       "  </tbody>\n",
       "</table>\n",
       "</div>"
      ],
      "text/plain": [
       "              Open    High     Low   Close     Volume  Name\n",
       "Date                                                       \n",
       "2012-12-31   72.93   76.49   72.71   76.02  164872785  AAPL\n",
       "2007-12-26   28.43   28.71   28.12   28.42  175933023  AAPL\n",
       "2015-11-02  120.80  121.36  119.61  121.18   31761309  AAPL\n",
       "2012-04-16   87.15   87.18   82.61   82.88  262696056  AAPL\n",
       "2007-12-17   27.25   27.52   26.14   26.34  256172938  AAPL"
      ]
     },
     "execution_count": 3,
     "metadata": {},
     "output_type": "execute_result"
    }
   ],
   "source": [
    "df = pd.read_csv(r'C:\\Users\\danielortega\\OneDrive - HOTELERA YALKUITO SA DE CV\\Desktop\\No Borrar Daniel\\30 Data Analyst - Curso\\52_Módulo_46_Series_de_Tiempo\\Modulo_46_Tarea_Series_de_Tiempo\\Analista de datos AAPL_2006-01-01_to_2018-01-01_M30.csv', \n",
    "                 index_col='Date', parse_dates=['Date'])\n",
    "\n",
    "df.sample(5)"
   ]
  },
  {
   "cell_type": "code",
   "execution_count": 4,
   "id": "9ff7fd4f",
   "metadata": {},
   "outputs": [
    {
     "data": {
      "text/html": [
       "<div>\n",
       "<style scoped>\n",
       "    .dataframe tbody tr th:only-of-type {\n",
       "        vertical-align: middle;\n",
       "    }\n",
       "\n",
       "    .dataframe tbody tr th {\n",
       "        vertical-align: top;\n",
       "    }\n",
       "\n",
       "    .dataframe thead th {\n",
       "        text-align: right;\n",
       "    }\n",
       "</style>\n",
       "<table border=\"1\" class=\"dataframe\">\n",
       "  <thead>\n",
       "    <tr style=\"text-align: right;\">\n",
       "      <th></th>\n",
       "      <th>Open</th>\n",
       "      <th>High</th>\n",
       "      <th>Low</th>\n",
       "      <th>Close</th>\n",
       "      <th>Volume</th>\n",
       "      <th>Name</th>\n",
       "    </tr>\n",
       "    <tr>\n",
       "      <th>Date</th>\n",
       "      <th></th>\n",
       "      <th></th>\n",
       "      <th></th>\n",
       "      <th></th>\n",
       "      <th></th>\n",
       "      <th></th>\n",
       "    </tr>\n",
       "  </thead>\n",
       "  <tbody>\n",
       "    <tr>\n",
       "      <th>2006-01-03</th>\n",
       "      <td>10.34</td>\n",
       "      <td>10.68</td>\n",
       "      <td>10.32</td>\n",
       "      <td>10.68</td>\n",
       "      <td>201853036</td>\n",
       "      <td>AAPL</td>\n",
       "    </tr>\n",
       "    <tr>\n",
       "      <th>2006-01-04</th>\n",
       "      <td>10.73</td>\n",
       "      <td>10.85</td>\n",
       "      <td>10.64</td>\n",
       "      <td>10.71</td>\n",
       "      <td>155225609</td>\n",
       "      <td>AAPL</td>\n",
       "    </tr>\n",
       "    <tr>\n",
       "      <th>2006-01-05</th>\n",
       "      <td>10.69</td>\n",
       "      <td>10.70</td>\n",
       "      <td>10.54</td>\n",
       "      <td>10.63</td>\n",
       "      <td>112396081</td>\n",
       "      <td>AAPL</td>\n",
       "    </tr>\n",
       "  </tbody>\n",
       "</table>\n",
       "</div>"
      ],
      "text/plain": [
       "             Open   High    Low  Close     Volume  Name\n",
       "Date                                                   \n",
       "2006-01-03  10.34  10.68  10.32  10.68  201853036  AAPL\n",
       "2006-01-04  10.73  10.85  10.64  10.71  155225609  AAPL\n",
       "2006-01-05  10.69  10.70  10.54  10.63  112396081  AAPL"
      ]
     },
     "execution_count": 4,
     "metadata": {},
     "output_type": "execute_result"
    }
   ],
   "source": [
    "df.head(3)"
   ]
  },
  {
   "cell_type": "code",
   "execution_count": 5,
   "id": "0d1ff685",
   "metadata": {},
   "outputs": [
    {
     "data": {
      "text/html": [
       "<div>\n",
       "<style scoped>\n",
       "    .dataframe tbody tr th:only-of-type {\n",
       "        vertical-align: middle;\n",
       "    }\n",
       "\n",
       "    .dataframe tbody tr th {\n",
       "        vertical-align: top;\n",
       "    }\n",
       "\n",
       "    .dataframe thead th {\n",
       "        text-align: right;\n",
       "    }\n",
       "</style>\n",
       "<table border=\"1\" class=\"dataframe\">\n",
       "  <thead>\n",
       "    <tr style=\"text-align: right;\">\n",
       "      <th></th>\n",
       "      <th>Open</th>\n",
       "      <th>High</th>\n",
       "      <th>Low</th>\n",
       "      <th>Close</th>\n",
       "      <th>Volume</th>\n",
       "      <th>Name</th>\n",
       "    </tr>\n",
       "    <tr>\n",
       "      <th>Date</th>\n",
       "      <th></th>\n",
       "      <th></th>\n",
       "      <th></th>\n",
       "      <th></th>\n",
       "      <th></th>\n",
       "      <th></th>\n",
       "    </tr>\n",
       "  </thead>\n",
       "  <tbody>\n",
       "    <tr>\n",
       "      <th>2017-12-27</th>\n",
       "      <td>170.10</td>\n",
       "      <td>170.78</td>\n",
       "      <td>169.71</td>\n",
       "      <td>170.60</td>\n",
       "      <td>21498213</td>\n",
       "      <td>AAPL</td>\n",
       "    </tr>\n",
       "    <tr>\n",
       "      <th>2017-12-28</th>\n",
       "      <td>171.00</td>\n",
       "      <td>171.85</td>\n",
       "      <td>170.48</td>\n",
       "      <td>171.08</td>\n",
       "      <td>16480187</td>\n",
       "      <td>AAPL</td>\n",
       "    </tr>\n",
       "    <tr>\n",
       "      <th>2017-12-29</th>\n",
       "      <td>170.52</td>\n",
       "      <td>170.59</td>\n",
       "      <td>169.22</td>\n",
       "      <td>169.23</td>\n",
       "      <td>25999922</td>\n",
       "      <td>AAPL</td>\n",
       "    </tr>\n",
       "  </tbody>\n",
       "</table>\n",
       "</div>"
      ],
      "text/plain": [
       "              Open    High     Low   Close    Volume  Name\n",
       "Date                                                      \n",
       "2017-12-27  170.10  170.78  169.71  170.60  21498213  AAPL\n",
       "2017-12-28  171.00  171.85  170.48  171.08  16480187  AAPL\n",
       "2017-12-29  170.52  170.59  169.22  169.23  25999922  AAPL"
      ]
     },
     "execution_count": 5,
     "metadata": {},
     "output_type": "execute_result"
    }
   ],
   "source": [
    "df.tail(3)"
   ]
  },
  {
   "cell_type": "markdown",
   "id": "2b7c97a9",
   "metadata": {},
   "source": [
    "____\n",
    "\n",
    "# **Análisis Univariado**"
   ]
  },
  {
   "cell_type": "code",
   "execution_count": 6,
   "id": "1c2ec3b9",
   "metadata": {},
   "outputs": [
    {
     "name": "stdout",
     "output_type": "stream",
     "text": [
      "<class 'pandas.core.frame.DataFrame'>\n",
      "DatetimeIndex: 3019 entries, 2006-01-03 to 2017-12-29\n",
      "Data columns (total 6 columns):\n",
      " #   Column  Non-Null Count  Dtype  \n",
      "---  ------  --------------  -----  \n",
      " 0   Open    3019 non-null   float64\n",
      " 1   High    3019 non-null   float64\n",
      " 2   Low     3019 non-null   float64\n",
      " 3   Close   3019 non-null   float64\n",
      " 4   Volume  3019 non-null   int64  \n",
      " 5   Name    3019 non-null   object \n",
      "dtypes: float64(4), int64(1), object(1)\n",
      "memory usage: 165.1+ KB\n"
     ]
    }
   ],
   "source": [
    "df.info()"
   ]
  },
  {
   "cell_type": "code",
   "execution_count": 7,
   "id": "60e7e7b3",
   "metadata": {},
   "outputs": [
    {
     "data": {
      "text/plain": [
       "Open      2630\n",
       "High      2579\n",
       "Low       2575\n",
       "Close     2579\n",
       "Volume    3019\n",
       "Name         1\n",
       "dtype: int64"
      ]
     },
     "execution_count": 7,
     "metadata": {},
     "output_type": "execute_result"
    }
   ],
   "source": [
    "df.nunique()"
   ]
  },
  {
   "cell_type": "code",
   "execution_count": 8,
   "id": "8a591266",
   "metadata": {},
   "outputs": [],
   "source": [
    "pd.set_option('display.float_format', lambda x: '%.2f' % x)"
   ]
  },
  {
   "cell_type": "code",
   "execution_count": 9,
   "id": "cf818803",
   "metadata": {},
   "outputs": [
    {
     "data": {
      "text/html": [
       "<div>\n",
       "<style scoped>\n",
       "    .dataframe tbody tr th:only-of-type {\n",
       "        vertical-align: middle;\n",
       "    }\n",
       "\n",
       "    .dataframe tbody tr th {\n",
       "        vertical-align: top;\n",
       "    }\n",
       "\n",
       "    .dataframe thead th {\n",
       "        text-align: right;\n",
       "    }\n",
       "</style>\n",
       "<table border=\"1\" class=\"dataframe\">\n",
       "  <thead>\n",
       "    <tr style=\"text-align: right;\">\n",
       "      <th></th>\n",
       "      <th>count</th>\n",
       "      <th>mean</th>\n",
       "      <th>std</th>\n",
       "      <th>min</th>\n",
       "      <th>25%</th>\n",
       "      <th>50%</th>\n",
       "      <th>75%</th>\n",
       "      <th>max</th>\n",
       "    </tr>\n",
       "  </thead>\n",
       "  <tbody>\n",
       "    <tr>\n",
       "      <th>Open</th>\n",
       "      <td>3019.00</td>\n",
       "      <td>64.67</td>\n",
       "      <td>44.52</td>\n",
       "      <td>7.39</td>\n",
       "      <td>23.43</td>\n",
       "      <td>57.86</td>\n",
       "      <td>99.16</td>\n",
       "      <td>175.11</td>\n",
       "    </tr>\n",
       "    <tr>\n",
       "      <th>High</th>\n",
       "      <td>3019.00</td>\n",
       "      <td>65.26</td>\n",
       "      <td>44.81</td>\n",
       "      <td>7.56</td>\n",
       "      <td>23.80</td>\n",
       "      <td>58.46</td>\n",
       "      <td>100.28</td>\n",
       "      <td>177.20</td>\n",
       "    </tr>\n",
       "    <tr>\n",
       "      <th>Low</th>\n",
       "      <td>3019.00</td>\n",
       "      <td>64.03</td>\n",
       "      <td>44.23</td>\n",
       "      <td>7.17</td>\n",
       "      <td>23.02</td>\n",
       "      <td>57.32</td>\n",
       "      <td>98.39</td>\n",
       "      <td>174.86</td>\n",
       "    </tr>\n",
       "    <tr>\n",
       "      <th>Close</th>\n",
       "      <td>3019.00</td>\n",
       "      <td>64.66</td>\n",
       "      <td>44.54</td>\n",
       "      <td>7.24</td>\n",
       "      <td>23.42</td>\n",
       "      <td>57.92</td>\n",
       "      <td>99.48</td>\n",
       "      <td>176.42</td>\n",
       "    </tr>\n",
       "    <tr>\n",
       "      <th>Volume</th>\n",
       "      <td>3019.00</td>\n",
       "      <td>131145687.66</td>\n",
       "      <td>101855966.22</td>\n",
       "      <td>11475922.00</td>\n",
       "      <td>52928887.00</td>\n",
       "      <td>106627080.00</td>\n",
       "      <td>179897651.50</td>\n",
       "      <td>843264044.00</td>\n",
       "    </tr>\n",
       "  </tbody>\n",
       "</table>\n",
       "</div>"
      ],
      "text/plain": [
       "         count         mean          std         min         25%          50%  \\\n",
       "Open   3019.00        64.67        44.52        7.39       23.43        57.86   \n",
       "High   3019.00        65.26        44.81        7.56       23.80        58.46   \n",
       "Low    3019.00        64.03        44.23        7.17       23.02        57.32   \n",
       "Close  3019.00        64.66        44.54        7.24       23.42        57.92   \n",
       "Volume 3019.00 131145687.66 101855966.22 11475922.00 52928887.00 106627080.00   \n",
       "\n",
       "                75%          max  \n",
       "Open          99.16       175.11  \n",
       "High         100.28       177.20  \n",
       "Low           98.39       174.86  \n",
       "Close         99.48       176.42  \n",
       "Volume 179897651.50 843264044.00  "
      ]
     },
     "execution_count": 9,
     "metadata": {},
     "output_type": "execute_result"
    }
   ],
   "source": [
    "df.describe().T"
   ]
  },
  {
   "cell_type": "code",
   "execution_count": 10,
   "id": "e8ede8b4",
   "metadata": {},
   "outputs": [
    {
     "data": {
      "text/plain": [
       "Open     0.00\n",
       "High     0.00\n",
       "Low      0.00\n",
       "Close    0.00\n",
       "Volume   0.00\n",
       "Name     0.00\n",
       "dtype: float64"
      ]
     },
     "execution_count": 10,
     "metadata": {},
     "output_type": "execute_result"
    }
   ],
   "source": [
    "df[df==0].count() / df.count()"
   ]
  },
  {
   "cell_type": "code",
   "execution_count": 11,
   "id": "9615f411",
   "metadata": {},
   "outputs": [
    {
     "data": {
      "text/plain": [
       "Open      0\n",
       "High      0\n",
       "Low       0\n",
       "Close     0\n",
       "Volume    0\n",
       "Name      0\n",
       "dtype: int64"
      ]
     },
     "execution_count": 11,
     "metadata": {},
     "output_type": "execute_result"
    }
   ],
   "source": [
    "df.isnull().sum()"
   ]
  },
  {
   "cell_type": "code",
   "execution_count": 12,
   "id": "0e678641",
   "metadata": {},
   "outputs": [
    {
     "data": {
      "text/plain": [
       "Open      0\n",
       "High      0\n",
       "Low       0\n",
       "Close     0\n",
       "Volume    0\n",
       "Name      0\n",
       "dtype: int64"
      ]
     },
     "execution_count": 12,
     "metadata": {},
     "output_type": "execute_result"
    }
   ],
   "source": [
    "df.isna().sum()"
   ]
  },
  {
   "cell_type": "code",
   "execution_count": 13,
   "id": "2de49a98",
   "metadata": {},
   "outputs": [
    {
     "data": {
      "text/plain": [
       "(3019, 6)"
      ]
     },
     "execution_count": 13,
     "metadata": {},
     "output_type": "execute_result"
    }
   ],
   "source": [
    "df.shape"
   ]
  },
  {
   "cell_type": "code",
   "execution_count": 14,
   "id": "7c19e35b",
   "metadata": {},
   "outputs": [
    {
     "name": "stdout",
     "output_type": "stream",
     "text": [
      "Open\n",
      " \n",
      "[ 10.34  10.73  10.69 ... 170.1  171.   170.52]\n",
      "High\n",
      " \n",
      "[ 10.68  10.85  10.7  ... 170.78 171.85 170.59]\n",
      "Low\n",
      " \n",
      "[ 10.32  10.64  10.54 ... 169.71 170.48 169.22]\n",
      "Close\n",
      " \n",
      "[ 10.68  10.71  10.63 ... 170.6  171.08 169.23]\n",
      "Volume\n",
      " \n",
      "[201853036 155225609 112396081 ...  21498213  16480187  25999922]\n",
      "Name\n",
      " \n",
      "['AAPL']\n"
     ]
    }
   ],
   "source": [
    "columnas = df.columns\n",
    "\n",
    "for i in columnas:\n",
    "    print(i)\n",
    "    print(' ')\n",
    "    print(df[i].unique())"
   ]
  },
  {
   "cell_type": "code",
   "execution_count": null,
   "id": "36d26656",
   "metadata": {},
   "outputs": [],
   "source": []
  }
 ],
 "metadata": {
  "kernelspec": {
   "display_name": "base",
   "language": "python",
   "name": "python3"
  },
  "language_info": {
   "codemirror_mode": {
    "name": "ipython",
    "version": 3
   },
   "file_extension": ".py",
   "mimetype": "text/x-python",
   "name": "python",
   "nbconvert_exporter": "python",
   "pygments_lexer": "ipython3",
   "version": "3.12.7"
  }
 },
 "nbformat": 4,
 "nbformat_minor": 5
}
